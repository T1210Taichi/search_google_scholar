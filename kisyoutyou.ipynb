{
 "cells": [
  {
   "cell_type": "markdown",
   "id": "66227f70-7938-4993-9458-eec672dbc4f4",
   "metadata": {},
   "source": [
    "# 目的\n",
    "　気象庁APIを使用して天気予報を取得する"
   ]
  },
  {
   "cell_type": "code",
   "execution_count": 11,
   "id": "a52751e2-c95e-4bac-a10c-684cabf127b4",
   "metadata": {},
   "outputs": [],
   "source": [
    "import requests\n",
    "import json\n",
    "import pandas as pd\n",
    "from pandas import json_normalize"
   ]
  },
  {
   "cell_type": "code",
   "execution_count": 2,
   "id": "601ba321-5449-434a-84f8-1e4eef661604",
   "metadata": {},
   "outputs": [],
   "source": [
    "# 気象庁データの取得\n",
    "jma_url = \"https://www.jma.go.jp/bosai/forecast/data/forecast/310000.json\"\n",
    "jma_json = requests.get(jma_url).json()"
   ]
  },
  {
   "cell_type": "code",
   "execution_count": 3,
   "id": "ea30f51b-1aa8-4f78-9daa-c21bc910c318",
   "metadata": {
    "tags": []
   },
   "outputs": [
    {
     "data": {
      "text/plain": [
       "[{'publishingOffice': '鳥取地方気象台',\n",
       "  'reportDatetime': '2022-08-31T11:00:00+09:00',\n",
       "  'timeSeries': [{'timeDefines': ['2022-08-31T11:00:00+09:00',\n",
       "     '2022-09-01T00:00:00+09:00',\n",
       "     '2022-09-02T00:00:00+09:00'],\n",
       "    'areas': [{'area': {'name': '東部', 'code': '310010'},\n",
       "      'weatherCodes': ['214', '300', '313'],\n",
       "      'weathers': ['くもり\\u3000夕方\\u3000から\\u3000雨\\u3000所により\\u3000昼過ぎ\\u3000から\\u3000夜のはじめ頃\\u3000雷を伴い\\u3000激しく\\u3000降る',\n",
       "       '雨\\u3000所により\\u3000明け方\\u3000から\\u3000夜のはじめ頃\\u3000雷を伴い\\u3000激しく\\u3000降る',\n",
       "       '雨\\u3000後\\u3000くもり'],\n",
       "      'winds': ['北西の風\\u3000後\\u3000北の風',\n",
       "       '北の風\\u3000後\\u3000北東の風\\u3000海上\\u3000では\\u3000北東の風\\u3000やや強く',\n",
       "       '北東の風'],\n",
       "      'waves': ['１メートル',\n",
       "       '１メートル\\u3000後\\u3000２メートル',\n",
       "       '１．５メートル\\u3000後\\u3000２メートル']},\n",
       "     {'area': {'name': '中・西部', 'code': '310020'},\n",
       "      'weatherCodes': ['214', '300', '313'],\n",
       "      'weathers': ['くもり\\u3000昼過ぎ\\u3000から\\u3000雨\\u3000所により\\u3000昼過ぎ\\u3000から\\u3000夜のはじめ頃\\u3000雷を伴い\\u3000激しく\\u3000降る',\n",
       "       '雨\\u3000所により\\u3000明け方\\u3000から\\u3000夜のはじめ頃\\u3000雷を伴い\\u3000激しく\\u3000降る',\n",
       "       '雨\\u3000後\\u3000くもり'],\n",
       "      'winds': ['西の風',\n",
       "       '北東の風\\u3000日中\\u3000北の風\\u3000海上\\u3000では\\u3000北東の風\\u3000やや強く',\n",
       "       '北東の風'],\n",
       "      'waves': ['１メートル',\n",
       "       '１メートル\\u3000後\\u3000２メートル',\n",
       "       '１．５メートル\\u3000後\\u3000２メートル']}]},\n",
       "   {'timeDefines': ['2022-08-31T12:00:00+09:00',\n",
       "     '2022-08-31T18:00:00+09:00',\n",
       "     '2022-09-01T00:00:00+09:00',\n",
       "     '2022-09-01T06:00:00+09:00',\n",
       "     '2022-09-01T12:00:00+09:00',\n",
       "     '2022-09-01T18:00:00+09:00'],\n",
       "    'areas': [{'area': {'name': '東部', 'code': '310010'},\n",
       "      'pops': ['50', '50', '50', '60', '70', '70']},\n",
       "     {'area': {'name': '中・西部', 'code': '310020'},\n",
       "      'pops': ['70', '70', '70', '70', '70', '70']}]},\n",
       "   {'timeDefines': ['2022-08-31T09:00:00+09:00',\n",
       "     '2022-08-31T00:00:00+09:00',\n",
       "     '2022-09-01T00:00:00+09:00',\n",
       "     '2022-09-01T09:00:00+09:00'],\n",
       "    'areas': [{'area': {'name': '鳥取', 'code': '69122'},\n",
       "      'temps': ['35', '35', '25', '29']},\n",
       "     {'area': {'name': '米子', 'code': '69076'},\n",
       "      'temps': ['35', '35', '24', '27']}]}]},\n",
       " {'publishingOffice': '鳥取地方気象台',\n",
       "  'reportDatetime': '2022-08-31T11:00:00+09:00',\n",
       "  'timeSeries': [{'timeDefines': ['2022-09-01T00:00:00+09:00',\n",
       "     '2022-09-02T00:00:00+09:00',\n",
       "     '2022-09-03T00:00:00+09:00',\n",
       "     '2022-09-04T00:00:00+09:00',\n",
       "     '2022-09-05T00:00:00+09:00',\n",
       "     '2022-09-06T00:00:00+09:00',\n",
       "     '2022-09-07T00:00:00+09:00'],\n",
       "    'areas': [{'area': {'name': '鳥取県', 'code': '310000'},\n",
       "      'weatherCodes': ['300', '313', '202', '200', '202', '202', '200'],\n",
       "      'pops': ['', '80', '70', '40', '50', '50', '40'],\n",
       "      'reliabilities': ['', '', 'A', 'B', 'C', 'C', 'B']}]},\n",
       "   {'timeDefines': ['2022-09-01T00:00:00+09:00',\n",
       "     '2022-09-02T00:00:00+09:00',\n",
       "     '2022-09-03T00:00:00+09:00',\n",
       "     '2022-09-04T00:00:00+09:00',\n",
       "     '2022-09-05T00:00:00+09:00',\n",
       "     '2022-09-06T00:00:00+09:00',\n",
       "     '2022-09-07T00:00:00+09:00'],\n",
       "    'areas': [{'area': {'name': '鳥取', 'code': '69122'},\n",
       "      'tempsMin': ['', '21', '22', '24', '26', '26', '25'],\n",
       "      'tempsMinUpper': ['', '25', '24', '26', '27', '28', '27'],\n",
       "      'tempsMinLower': ['', '20', '21', '23', '24', '25', '22'],\n",
       "      'tempsMax': ['', '28', '31', '33', '33', '32', '33'],\n",
       "      'tempsMaxUpper': ['', '32', '34', '35', '36', '35', '36'],\n",
       "      'tempsMaxLower': ['', '26', '28', '30', '31', '31', '29']}]}],\n",
       "  'tempAverage': {'areas': [{'area': {'name': '鳥取', 'code': '69122'},\n",
       "     'min': '21.2',\n",
       "     'max': '30.1'}]},\n",
       "  'precipAverage': {'areas': [{'area': {'name': '鳥取', 'code': '69122'},\n",
       "     'min': '18.0',\n",
       "     'max': '57.2'}]}}]"
      ]
     },
     "execution_count": 3,
     "metadata": {},
     "output_type": "execute_result"
    }
   ],
   "source": [
    "jma_json"
   ]
  },
  {
   "cell_type": "code",
   "execution_count": 12,
   "id": "5044a3e5-7b1f-4ef7-9fe1-076758e5a2ef",
   "metadata": {},
   "outputs": [],
   "source": [
    "df = json_normalize(jma_json)"
   ]
  },
  {
   "cell_type": "code",
   "execution_count": 13,
   "id": "b91546e9-97c6-428c-9e05-bd75782cbfa0",
   "metadata": {},
   "outputs": [
    {
     "data": {
      "text/html": [
       "<div>\n",
       "<style scoped>\n",
       "    .dataframe tbody tr th:only-of-type {\n",
       "        vertical-align: middle;\n",
       "    }\n",
       "\n",
       "    .dataframe tbody tr th {\n",
       "        vertical-align: top;\n",
       "    }\n",
       "\n",
       "    .dataframe thead th {\n",
       "        text-align: right;\n",
       "    }\n",
       "</style>\n",
       "<table border=\"1\" class=\"dataframe\">\n",
       "  <thead>\n",
       "    <tr style=\"text-align: right;\">\n",
       "      <th></th>\n",
       "      <th>publishingOffice</th>\n",
       "      <th>reportDatetime</th>\n",
       "      <th>timeSeries</th>\n",
       "      <th>tempAverage.areas</th>\n",
       "      <th>precipAverage.areas</th>\n",
       "    </tr>\n",
       "  </thead>\n",
       "  <tbody>\n",
       "    <tr>\n",
       "      <th>0</th>\n",
       "      <td>鳥取地方気象台</td>\n",
       "      <td>2022-08-31T11:00:00+09:00</td>\n",
       "      <td>[{'timeDefines': ['2022-08-31T11:00:00+09:00',...</td>\n",
       "      <td>NaN</td>\n",
       "      <td>NaN</td>\n",
       "    </tr>\n",
       "    <tr>\n",
       "      <th>1</th>\n",
       "      <td>鳥取地方気象台</td>\n",
       "      <td>2022-08-31T11:00:00+09:00</td>\n",
       "      <td>[{'timeDefines': ['2022-09-01T00:00:00+09:00',...</td>\n",
       "      <td>[{'area': {'name': '鳥取', 'code': '69122'}, 'mi...</td>\n",
       "      <td>[{'area': {'name': '鳥取', 'code': '69122'}, 'mi...</td>\n",
       "    </tr>\n",
       "  </tbody>\n",
       "</table>\n",
       "</div>"
      ],
      "text/plain": [
       "  publishingOffice             reportDatetime  \\\n",
       "0          鳥取地方気象台  2022-08-31T11:00:00+09:00   \n",
       "1          鳥取地方気象台  2022-08-31T11:00:00+09:00   \n",
       "\n",
       "                                          timeSeries  \\\n",
       "0  [{'timeDefines': ['2022-08-31T11:00:00+09:00',...   \n",
       "1  [{'timeDefines': ['2022-09-01T00:00:00+09:00',...   \n",
       "\n",
       "                                   tempAverage.areas  \\\n",
       "0                                                NaN   \n",
       "1  [{'area': {'name': '鳥取', 'code': '69122'}, 'mi...   \n",
       "\n",
       "                                 precipAverage.areas  \n",
       "0                                                NaN  \n",
       "1  [{'area': {'name': '鳥取', 'code': '69122'}, 'mi...  "
      ]
     },
     "execution_count": 13,
     "metadata": {},
     "output_type": "execute_result"
    }
   ],
   "source": [
    "df"
   ]
  },
  {
   "cell_type": "code",
   "execution_count": 16,
   "id": "867d2a12-fd45-4803-a081-c122a0977828",
   "metadata": {},
   "outputs": [],
   "source": [
    "date = jma_json[0][\"timeSeries\"][0][\"timeDefines\"][0]\n",
    "weather = jma_json[0][\"timeSeries\"][0][\"areas\"][0][\"weathers\"][0]"
   ]
  },
  {
   "cell_type": "code",
   "execution_count": 19,
   "id": "15df4fc9-4530-4b46-a3eb-c8dd0324679a",
   "metadata": {},
   "outputs": [
    {
     "name": "stdout",
     "output_type": "stream",
     "text": [
      "2022-08-31T11:00:00+09:00\n",
      "くもり夕方から雨所により昼過ぎから夜のはじめ頃雷を伴い激しく降る\n"
     ]
    }
   ],
   "source": [
    "print(date)\n",
    "weather = weather.replace(\"　\",\"\")\n",
    "print(weather)"
   ]
  },
  {
   "cell_type": "code",
   "execution_count": null,
   "id": "b0f41484-d2cd-481d-aae7-65e3443c3515",
   "metadata": {},
   "outputs": [],
   "source": []
  }
 ],
 "metadata": {
  "kernelspec": {
   "display_name": "Python 3 (ipykernel)",
   "language": "python",
   "name": "python3"
  },
  "language_info": {
   "codemirror_mode": {
    "name": "ipython",
    "version": 3
   },
   "file_extension": ".py",
   "mimetype": "text/x-python",
   "name": "python",
   "nbconvert_exporter": "python",
   "pygments_lexer": "ipython3",
   "version": "3.8.13"
  }
 },
 "nbformat": 4,
 "nbformat_minor": 5
}
